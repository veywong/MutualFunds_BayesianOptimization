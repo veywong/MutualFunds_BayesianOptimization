{
 "cells": [
  {
   "cell_type": "code",
   "execution_count": 1,
   "id": "d5db1fa0",
   "metadata": {},
   "outputs": [
    {
     "name": "stdout",
     "output_type": "stream",
     "text": [
      "Requirement already satisfied: bayesian-optimization in c:\\users\\vey\\anaconda3\\lib\\site-packages (1.4.3)\n",
      "Requirement already satisfied: numpy>=1.9.0 in c:\\users\\vey\\anaconda3\\lib\\site-packages (from bayesian-optimization) (1.21.5)\n",
      "Requirement already satisfied: scipy>=1.0.0 in c:\\users\\vey\\anaconda3\\lib\\site-packages (from bayesian-optimization) (1.9.1)\n",
      "Requirement already satisfied: scikit-learn>=0.18.0 in c:\\users\\vey\\anaconda3\\lib\\site-packages (from bayesian-optimization) (1.0.2)\n",
      "Requirement already satisfied: colorama>=0.4.6 in c:\\users\\vey\\anaconda3\\lib\\site-packages (from bayesian-optimization) (0.4.6)\n",
      "Requirement already satisfied: joblib>=0.11 in c:\\users\\vey\\anaconda3\\lib\\site-packages (from scikit-learn>=0.18.0->bayesian-optimization) (1.1.0)\n",
      "Requirement already satisfied: threadpoolctl>=2.0.0 in c:\\users\\vey\\anaconda3\\lib\\site-packages (from scikit-learn>=0.18.0->bayesian-optimization) (2.2.0)\n",
      "Note: you may need to restart the kernel to use updated packages.\n"
     ]
    }
   ],
   "source": [
    "pip install bayesian-optimization"
   ]
  },
  {
   "cell_type": "code",
   "execution_count": 2,
   "id": "4ba1fe2e",
   "metadata": {},
   "outputs": [
    {
     "name": "stdout",
     "output_type": "stream",
     "text": [
      "Minimum and maximum values of each column:\n",
      "     total_net_assets  fund_year3_expense_projection  \\\n",
      "min      7.276360e+05                            3.0   \n",
      "max      7.534100e+11                        70125.0   \n",
      "\n",
      "     fund_year5_expense_projection  fund_year10_expense_projection  \\\n",
      "min                            6.0                            13.0   \n",
      "max                        70125.0                         70125.0   \n",
      "\n",
      "     morningstar_return_rating  load_adj_return_3years  \\\n",
      "min                        1.0                 -0.2352   \n",
      "max                        5.0                  0.5971   \n",
      "\n",
      "     load_adj_return_5years  load_adj_return_10years  sustainability_score  \\\n",
      "min                 -0.1658                  -0.1728                 14.23   \n",
      "max                  0.5076                   0.3757                 41.21   \n",
      "\n",
      "     sustainability_rank  esg_score  \n",
      "min                  0.0      14.23  \n",
      "max                100.0      41.21  \n"
     ]
    }
   ],
   "source": [
    "import pandas as pd\n",
    "\n",
    "# Load the cleaned CSV file into a pandas DataFrame\n",
    "df = pd.read_csv('MutualFunds_complete.csv')\n",
    "\n",
    "# Get summary statistics for each column\n",
    "summary_stats = df.describe()\n",
    "\n",
    "# Display the minimum and maximum values of each column\n",
    "print(\"Minimum and maximum values of each column:\")\n",
    "print(summary_stats.loc[['min', 'max']])"
   ]
  },
  {
   "cell_type": "code",
   "execution_count": 3,
   "id": "e59f7a40",
   "metadata": {},
   "outputs": [
    {
     "name": "stdout",
     "output_type": "stream",
     "text": [
      "|   iter    |  target   | esg_score | fund_y... | fund_y... | fund_y... | mornin... | sustai... | sustai... | total_... |\n",
      "-------------------------------------------------------------------------------------------------------------------------\n",
      "| \u001b[0m1        \u001b[0m | \u001b[0m100.0    \u001b[0m | \u001b[0m25.48    \u001b[0m | \u001b[0m5.052e+04\u001b[0m | \u001b[0m11.02    \u001b[0m | \u001b[0m2.121e+04\u001b[0m | \u001b[0m1.587    \u001b[0m | \u001b[0m9.234    \u001b[0m | \u001b[0m19.26    \u001b[0m | \u001b[0m2.603e+11\u001b[0m |\n",
      "| \u001b[0m2        \u001b[0m | \u001b[0m100.0    \u001b[0m | \u001b[0m24.93    \u001b[0m | \u001b[0m3.779e+04\u001b[0m | \u001b[0m2.94e+04 \u001b[0m | \u001b[0m4.805e+04\u001b[0m | \u001b[0m1.818    \u001b[0m | \u001b[0m87.81    \u001b[0m | \u001b[0m14.97    \u001b[0m | \u001b[0m5.051e+11\u001b[0m |\n",
      "| \u001b[0m3        \u001b[0m | \u001b[0m100.0    \u001b[0m | \u001b[0m38.75    \u001b[0m | \u001b[0m6.675e+04\u001b[0m | \u001b[0m6.438e+04\u001b[0m | \u001b[0m2.263e+04\u001b[0m | \u001b[0m4.235    \u001b[0m | \u001b[0m91.61    \u001b[0m | \u001b[0m24.14    \u001b[0m | \u001b[0m5.199e+11\u001b[0m |\n",
      "| \u001b[0m4        \u001b[0m | \u001b[0m100.0    \u001b[0m | \u001b[0m35.96    \u001b[0m | \u001b[0m1.066e+04\u001b[0m | \u001b[0m2.27e+04 \u001b[0m | \u001b[0m3.031e+04\u001b[0m | \u001b[0m4.837    \u001b[0m | \u001b[0m64.74    \u001b[0m | \u001b[0m28.91    \u001b[0m | \u001b[0m7.139e+11\u001b[0m |\n",
      "| \u001b[0m5        \u001b[0m | \u001b[0m100.0    \u001b[0m | \u001b[0m21.86    \u001b[0m | \u001b[0m5.868e+04\u001b[0m | \u001b[0m1.341e+03\u001b[0m | \u001b[0m1.407e+04\u001b[0m | \u001b[0m2.388    \u001b[0m | \u001b[0m5.477    \u001b[0m | \u001b[0m28.55    \u001b[0m | \u001b[0m3.085e+11\u001b[0m |\n",
      "| \u001b[0m6        \u001b[0m | \u001b[0m100.0    \u001b[0m | \u001b[0m24.1     \u001b[0m | \u001b[0m3.291e+04\u001b[0m | \u001b[0m3.768e+04\u001b[0m | \u001b[0m1.861e+04\u001b[0m | \u001b[0m4.979    \u001b[0m | \u001b[0m22.38    \u001b[0m | \u001b[0m21.02    \u001b[0m | \u001b[0m6.735e+11\u001b[0m |\n",
      "| \u001b[0m7        \u001b[0m | \u001b[0m100.0    \u001b[0m | \u001b[0m17.7     \u001b[0m | \u001b[0m1.473e+03\u001b[0m | \u001b[0m6.222e+04\u001b[0m | \u001b[0m5.606e+04\u001b[0m | \u001b[0m4.211    \u001b[0m | \u001b[0m47.13    \u001b[0m | \u001b[0m36.52    \u001b[0m | \u001b[0m4.524e+11\u001b[0m |\n",
      "| \u001b[0m8        \u001b[0m | \u001b[0m100.0    \u001b[0m | \u001b[0m39.98    \u001b[0m | \u001b[0m3.563e+04\u001b[0m | \u001b[0m2.31e+04 \u001b[0m | \u001b[0m3.77e+04 \u001b[0m | \u001b[0m3.365    \u001b[0m | \u001b[0m55.27    \u001b[0m | \u001b[0m31.38    \u001b[0m | \u001b[0m6.633e+11\u001b[0m |\n",
      "| \u001b[0m9        \u001b[0m | \u001b[0m100.0    \u001b[0m | \u001b[0m16.69    \u001b[0m | \u001b[0m3.27e+04 \u001b[0m | \u001b[0m7.036e+03\u001b[0m | \u001b[0m4.951e+04\u001b[0m | \u001b[0m3.057    \u001b[0m | \u001b[0m48.72    \u001b[0m | \u001b[0m40.72    \u001b[0m | \u001b[0m1.492e+11\u001b[0m |\n",
      "| \u001b[0m10       \u001b[0m | \u001b[0m100.0    \u001b[0m | \u001b[0m16.45    \u001b[0m | \u001b[0m1.751e+04\u001b[0m | \u001b[0m1.556e+04\u001b[0m | \u001b[0m6.1e+04  \u001b[0m | \u001b[0m1.914    \u001b[0m | \u001b[0m41.57    \u001b[0m | \u001b[0m24.48    \u001b[0m | \u001b[0m7.155e+11\u001b[0m |\n",
      "| \u001b[0m11       \u001b[0m | \u001b[0m100.0    \u001b[0m | \u001b[0m20.75    \u001b[0m | \u001b[0m5.892e+04\u001b[0m | \u001b[0m5.973e+04\u001b[0m | \u001b[0m4.119e+04\u001b[0m | \u001b[0m1.793    \u001b[0m | \u001b[0m11.1     \u001b[0m | \u001b[0m33.66    \u001b[0m | \u001b[0m4.684e+11\u001b[0m |\n",
      "| \u001b[0m12       \u001b[0m | \u001b[0m100.0    \u001b[0m | \u001b[0m22.44    \u001b[0m | \u001b[0m3.536e+04\u001b[0m | \u001b[0m178.1    \u001b[0m | \u001b[0m5.906e+04\u001b[0m | \u001b[0m3.891    \u001b[0m | \u001b[0m23.15    \u001b[0m | \u001b[0m15.34    \u001b[0m | \u001b[0m5.754e+11\u001b[0m |\n",
      "=========================================================================================================================\n"
     ]
    },
    {
     "ename": "ValueError",
     "evalue": "cannot reshape array of size 10865 into shape (10865,8)",
     "output_type": "error",
     "traceback": [
      "\u001b[1;31m---------------------------------------------------------------------------\u001b[0m",
      "\u001b[1;31mValueError\u001b[0m                                Traceback (most recent call last)",
      "\u001b[1;32m~\\AppData\\Local\\Temp\\ipykernel_14232\\349789493.py\u001b[0m in \u001b[0;36m<module>\u001b[1;34m\u001b[0m\n\u001b[0;32m     45\u001b[0m \u001b[1;33m\u001b[0m\u001b[0m\n\u001b[0;32m     46\u001b[0m \u001b[1;31m# Reshape Z to be two-dimensional\u001b[0m\u001b[1;33m\u001b[0m\u001b[1;33m\u001b[0m\u001b[0m\n\u001b[1;32m---> 47\u001b[1;33m \u001b[0mZ\u001b[0m \u001b[1;33m=\u001b[0m \u001b[0mZ\u001b[0m\u001b[1;33m.\u001b[0m\u001b[0mreshape\u001b[0m\u001b[1;33m(\u001b[0m\u001b[0mX\u001b[0m\u001b[1;33m.\u001b[0m\u001b[0mshape\u001b[0m\u001b[1;33m)\u001b[0m\u001b[1;33m\u001b[0m\u001b[1;33m\u001b[0m\u001b[0m\n\u001b[0m\u001b[0;32m     48\u001b[0m \u001b[1;33m\u001b[0m\u001b[0m\n\u001b[0;32m     49\u001b[0m \u001b[1;31m# Create a 3D plot\u001b[0m\u001b[1;33m\u001b[0m\u001b[1;33m\u001b[0m\u001b[0m\n",
      "\u001b[1;31mValueError\u001b[0m: cannot reshape array of size 10865 into shape (10865,8)"
     ]
    }
   ],
   "source": [
    "def objective_function(total_net_assets, fund_year3_expense_projection, fund_year5_expense_projection, fund_year10_expense_projection, morningstar_return_rating, sustainability_score, sustainability_rank, esg_score):\n",
    "    # Calculate the returns (replace with actual logic)\n",
    "    return 100  # Replace with actual calculation\n",
    "\n",
    "# Set up the bounds for the input variables\n",
    "pbounds = {\n",
    "    'total_net_assets': (7.276360e+05, 7.534100e+11),\n",
    "    'fund_year3_expense_projection': (3.0, 70125.0),\n",
    "    'fund_year5_expense_projection': (6.0, 70125.0),\n",
    "    'fund_year10_expense_projection': (13.0, 70125.0),\n",
    "    'morningstar_return_rating': (1.0, 5.0),\n",
    "    'sustainability_score': (14.23, 41.21),\n",
    "    'sustainability_rank': (0.0, 100.0),\n",
    "    'esg_score': (14.23, 41.21)\n",
    "}\n",
    "\n",
    "from bayes_opt import BayesianOptimization\n",
    "\n",
    "optimizer = BayesianOptimization(\n",
    "    f=objective_function,\n",
    "    pbounds=pbounds,\n",
    "    random_state=1,\n",
    ")\n",
    "\n",
    "optimizer.maximize(\n",
    "    init_points=2,  # Number of initial random points\n",
    "    n_iter=10,      # Number of iterations\n",
    ")\n",
    "\n",
    "# Extract input variables\n",
    "X = df[['total_net_assets', 'fund_year3_expense_projection', 'fund_year5_expense_projection', 'fund_year10_expense_projection',\n",
    "        'morningstar_return_rating', 'sustainability_score', 'sustainability_rank', 'esg_score']].values\n",
    "\n",
    "# Extract output variables\n",
    "load_adj_return_3years = df['load_adj_return_3years'].values\n",
    "load_adj_return_5years = df['load_adj_return_5years'].values\n",
    "load_adj_return_10years = df['load_adj_return_10years'].values\n",
    "\n",
    "Y = (load_adj_return_3years + load_adj_return_5years + load_adj_return_10years) / 3.0\n",
    "Z = -(load_adj_return_3years + load_adj_return_5years + load_adj_return_10years) / 3.0\n",
    "\n",
    "import numpy as np\n",
    "import matplotlib.pyplot as plt\n",
    "from mpl_toolkits.mplot3d import Axes3D\n",
    "\n",
    "# Reshape Z to be two-dimensional\n",
    "Z = Z.reshape(X.shape)\n",
    "\n",
    "# Create a 3D plot\n",
    "fig = plt.figure()\n",
    "ax = fig.add_subplot(111, projection='3d')\n",
    "\n",
    "# Plot surface\n",
    "ax.plot_surface(X, Y, Z, rstride=1, cstride=1, cmap='viridis', edgecolor='none')\n",
    "\n",
    "# Set labels and title\n",
    "ax.set_xlabel('X Label')\n",
    "ax.set_ylabel('Y Label')\n",
    "ax.set_zlabel('Z Label')\n",
    "ax.set_title('3D Surface Plot of Combined Returns')\n",
    "\n",
    "# Show plot\n",
    "plt.show()\n"
   ]
  },
  {
   "cell_type": "code",
   "execution_count": 3,
   "id": "be2889e0",
   "metadata": {},
   "outputs": [],
   "source": []
  },
  {
   "cell_type": "code",
   "execution_count": null,
   "id": "68b52b8d",
   "metadata": {},
   "outputs": [],
   "source": []
  }
 ],
 "metadata": {
  "kernelspec": {
   "display_name": "Python 3 (ipykernel)",
   "language": "python",
   "name": "python3"
  },
  "language_info": {
   "codemirror_mode": {
    "name": "ipython",
    "version": 3
   },
   "file_extension": ".py",
   "mimetype": "text/x-python",
   "name": "python",
   "nbconvert_exporter": "python",
   "pygments_lexer": "ipython3",
   "version": "3.9.13"
  }
 },
 "nbformat": 4,
 "nbformat_minor": 5
}
